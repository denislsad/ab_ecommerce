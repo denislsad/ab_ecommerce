{
 "cells": [
  {
   "cell_type": "markdown",
   "metadata": {},
   "source": [
    "### Introduction\n",
    "<b>Data.</b> In this project, we are conducting an A/B test for an e-commerce website. This data was downloaded from Kaggle with no context as to where the data came from and what it represents. The 'landing_page' column suggests that we're dealing with two versions of a landing page that appears after a user clicks on a link in an email or an ad.\n",
    "\n",
    "<b>Hypothesis.</b> The null hypothesis is that the new webpage design is not statistically different from the old one. To reject the null hypothesis, the probability of obtaining the observed results should be less than or equal to 0.05 (the alpha value).\n",
    "\n",
    "<b>Metrics.</b> The \"converted\" column shows whether a user took some action after landing on a page. This could be adding an item to the shopping cart or making a purchase."
   ]
  },
  {
   "cell_type": "markdown",
   "metadata": {},
   "source": [
    "### Load and Explore Data"
   ]
  },
  {
   "cell_type": "code",
   "execution_count": 1,
   "metadata": {},
   "outputs": [],
   "source": [
    "import math\n",
    "import numpy as np\n",
    "import pandas as pd\n",
    "import scipy.stats as stats\n",
    "import statsmodels.stats.api as sms\n",
    "from statsmodels.stats.power import tt_ind_solve_power"
   ]
  },
  {
   "cell_type": "code",
   "execution_count": 2,
   "metadata": {},
   "outputs": [
    {
     "name": "stdout",
     "output_type": "stream",
     "text": [
      "['UK' 'US' 'CA']\n"
     ]
    }
   ],
   "source": [
    "df = pd.read_csv('ab_data.csv')\n",
    "countries = pd.read_csv('countries.csv')\n",
    "print(countries.country.unique())"
   ]
  },
  {
   "cell_type": "code",
   "execution_count": 3,
   "metadata": {},
   "outputs": [
    {
     "data": {
      "text/html": [
       "<div>\n",
       "<style scoped>\n",
       "    .dataframe tbody tr th:only-of-type {\n",
       "        vertical-align: middle;\n",
       "    }\n",
       "\n",
       "    .dataframe tbody tr th {\n",
       "        vertical-align: top;\n",
       "    }\n",
       "\n",
       "    .dataframe thead th {\n",
       "        text-align: right;\n",
       "    }\n",
       "</style>\n",
       "<table border=\"1\" class=\"dataframe\">\n",
       "  <thead>\n",
       "    <tr style=\"text-align: right;\">\n",
       "      <th></th>\n",
       "      <th>user_id</th>\n",
       "      <th>timestamp</th>\n",
       "      <th>group</th>\n",
       "      <th>landing_page</th>\n",
       "      <th>converted</th>\n",
       "      <th>country</th>\n",
       "    </tr>\n",
       "  </thead>\n",
       "  <tbody>\n",
       "    <tr>\n",
       "      <th>0</th>\n",
       "      <td>851104</td>\n",
       "      <td>11:48.6</td>\n",
       "      <td>control</td>\n",
       "      <td>old_page</td>\n",
       "      <td>0</td>\n",
       "      <td>US</td>\n",
       "    </tr>\n",
       "    <tr>\n",
       "      <th>1</th>\n",
       "      <td>804228</td>\n",
       "      <td>01:45.2</td>\n",
       "      <td>control</td>\n",
       "      <td>old_page</td>\n",
       "      <td>0</td>\n",
       "      <td>US</td>\n",
       "    </tr>\n",
       "    <tr>\n",
       "      <th>2</th>\n",
       "      <td>661590</td>\n",
       "      <td>55:06.2</td>\n",
       "      <td>treatment</td>\n",
       "      <td>new_page</td>\n",
       "      <td>0</td>\n",
       "      <td>US</td>\n",
       "    </tr>\n",
       "    <tr>\n",
       "      <th>3</th>\n",
       "      <td>853541</td>\n",
       "      <td>28:03.1</td>\n",
       "      <td>treatment</td>\n",
       "      <td>new_page</td>\n",
       "      <td>0</td>\n",
       "      <td>US</td>\n",
       "    </tr>\n",
       "    <tr>\n",
       "      <th>4</th>\n",
       "      <td>864975</td>\n",
       "      <td>52:26.2</td>\n",
       "      <td>control</td>\n",
       "      <td>old_page</td>\n",
       "      <td>1</td>\n",
       "      <td>US</td>\n",
       "    </tr>\n",
       "  </tbody>\n",
       "</table>\n",
       "</div>"
      ],
      "text/plain": [
       "   user_id timestamp      group landing_page  converted country\n",
       "0   851104   11:48.6    control     old_page          0      US\n",
       "1   804228   01:45.2    control     old_page          0      US\n",
       "2   661590   55:06.2  treatment     new_page          0      US\n",
       "3   853541   28:03.1  treatment     new_page          0      US\n",
       "4   864975   52:26.2    control     old_page          1      US"
      ]
     },
     "execution_count": 3,
     "metadata": {},
     "output_type": "execute_result"
    }
   ],
   "source": [
    "# Merge two data sets and display it\n",
    "df = pd.merge(df, countries, how='left', on='user_id')\n",
    "df.head(5)"
   ]
  },
  {
   "cell_type": "markdown",
   "metadata": {},
   "source": [
    "There are two columns in the dataset that look like duplicates. The \"group\" column contains \"control\" and \"treatment\" groups, and the \"landing_page\" has \"old_page\" and \"new_page\" values. The first thing we need to do is check for inconsistencies (i.e. having \"old_page\" in the treatment group or \"new_page\" in the control group)."
   ]
  },
  {
   "cell_type": "code",
   "execution_count": 4,
   "metadata": {},
   "outputs": [
    {
     "data": {
      "text/html": [
       "<div>\n",
       "<style scoped>\n",
       "    .dataframe tbody tr th:only-of-type {\n",
       "        vertical-align: middle;\n",
       "    }\n",
       "\n",
       "    .dataframe tbody tr th {\n",
       "        vertical-align: top;\n",
       "    }\n",
       "\n",
       "    .dataframe thead th {\n",
       "        text-align: right;\n",
       "    }\n",
       "</style>\n",
       "<table border=\"1\" class=\"dataframe\">\n",
       "  <thead>\n",
       "    <tr style=\"text-align: right;\">\n",
       "      <th>landing_page</th>\n",
       "      <th>new_page</th>\n",
       "      <th>old_page</th>\n",
       "    </tr>\n",
       "    <tr>\n",
       "      <th>group</th>\n",
       "      <th></th>\n",
       "      <th></th>\n",
       "    </tr>\n",
       "  </thead>\n",
       "  <tbody>\n",
       "    <tr>\n",
       "      <th>control</th>\n",
       "      <td>1928</td>\n",
       "      <td>145274</td>\n",
       "    </tr>\n",
       "    <tr>\n",
       "      <th>treatment</th>\n",
       "      <td>145315</td>\n",
       "      <td>1965</td>\n",
       "    </tr>\n",
       "  </tbody>\n",
       "</table>\n",
       "</div>"
      ],
      "text/plain": [
       "landing_page  new_page  old_page\n",
       "group                           \n",
       "control           1928    145274\n",
       "treatment       145315      1965"
      ]
     },
     "execution_count": 4,
     "metadata": {},
     "output_type": "execute_result"
    }
   ],
   "source": [
    "pd.crosstab(df.group, df.landing_page)"
   ]
  },
  {
   "cell_type": "markdown",
   "metadata": {},
   "source": [
    "There are 1928 incorrect entries in the control group and 1965 in the treatment group out of a total of 294480.\n",
    "\n",
    "These inconsistencies could be intentional (as part of the experimental design) or caused by implementation errors. If I encountered this problem in a real-world project, I would consult with the team to find a reason before working with the data. Now, given our goals and the large size of the set, we can safely delete these values and move on."
   ]
  },
  {
   "cell_type": "code",
   "execution_count": 5,
   "metadata": {},
   "outputs": [],
   "source": [
    "# Filter out and delete inconsistent rows\n",
    "wrong_entries_control = (df.group == 'control') & (df.landing_page == 'new_page')\n",
    "wrong_entries_treatment = (df.group == 'treatment') & (df.landing_page == 'old_page')\n",
    "df = df.loc[~(wrong_entries_control | wrong_entries_treatment)]"
   ]
  },
  {
   "cell_type": "markdown",
   "metadata": {},
   "source": [
    "Now, we can split the data into two groups."
   ]
  },
  {
   "cell_type": "code",
   "execution_count": 6,
   "metadata": {},
   "outputs": [],
   "source": [
    "# Split by groups\n",
    "group_A = df[df['group'] == 'control']\n",
    "group_B = df[df['group'] == 'treatment']"
   ]
  },
  {
   "cell_type": "markdown",
   "metadata": {},
   "source": [
    "### Choose the sample size\n",
    "Each group has approximately 145,000 values. Running a test of this size would be too costly and slow. To choose the sample size, we need the following parameters:\n",
    "- Alpha: Determined by the significance level (is the probability that the event could have occurred by chance, 0.05 in our case);\n",
    "- Power: Probability of finding a statistical difference between two groups given that there is some difference (0.8 if we follow convention);\n",
    "- Baseline Conversion Rate : How many visitors were \"converted\". Calculted by dividing the number of such visitors by the total number of visitors.\n",
    "- Minimum Detectable Effect: The lift by which another design solution makes a difference. We want to see at least 14% conversion versus 12% for the old design.\n",
    "- Ratio: The ratio of the tratment sample to the control sample.\n",
    "\n",
    "Knowing the actual baseline conversion rate and the desired lift, we can calculate the effect size, or Cohen's d.\n",
    "- Effect Size: In simple terms, measures the strength of the relationship between two groups. To calculate it, we divide difference between two means (i.e. conversion rates) by the pooled standard deviation.\\\n",
    "\\\n",
    "$ d = \\frac{(X_2 - X_1)}{SD_{pooled}} $\n",
    "<br>\n",
    "<br>\n",
    "- The pooled standard deviation required for Cohen's d, is calculated as follows:\\\n",
    "\\\n",
    "$ SD_{pooled} = \\sqrt{\\frac{SD_1^2 + SD_2^2}{2}} $\n",
    "<br>"
   ]
  },
  {
   "cell_type": "code",
   "execution_count": 7,
   "metadata": {},
   "outputs": [],
   "source": [
    "## Defining parameters\n",
    "alpha = 0.05\n",
    "power = 0.8\n",
    "\n",
    "# Calculating baseline conversion rate, that is equal 0.12\n",
    "x1 = round(sum(group_A['converted'] == 1) / len(group_A), 3)\n",
    "# We want this rate to be at least 0.14\n",
    "x2 = x1 + 0.02"
   ]
  },
  {
   "cell_type": "markdown",
   "metadata": {},
   "source": [
    "We can find the effect size in two ways – by plugging all the parameters into the formula, or with a Python function.\\\n",
    "Either way, we get a value of about 0.0595. Negative/positive signs don't matter here, as we take the absolute value of the Cohen's d for further calculations."
   ]
  },
  {
   "cell_type": "code",
   "execution_count": 8,
   "metadata": {},
   "outputs": [
    {
     "name": "stdout",
     "output_type": "stream",
     "text": [
      "0.0595\n",
      "-0.0595\n"
     ]
    }
   ],
   "source": [
    "## Effect size, Method 1\n",
    "# Find variance that is the standard deviation squared\n",
    "base_var = x1 * (1 - x1)\n",
    "target_var = x2 * (1 - x2)\n",
    "# Find the effect size\n",
    "effect_1 = (x2 - x1) / math.sqrt((base_var + target_var) / 2)\n",
    "print(round(effect_1, 4))\n",
    "\n",
    "## Effect size, Method 2\n",
    "effect_2 = sms.proportion_effectsize(x1, x2)\n",
    "print(round(effect_2, 4))"
   ]
  },
  {
   "cell_type": "markdown",
   "metadata": {},
   "source": [
    "To find the sample size, we can use two different methods from the statsmodel library. The tt_ind_solve_power() function is more versatile, while the NormalIndPower().solve_power() is simpler and just ideal for our case."
   ]
  },
  {
   "cell_type": "code",
   "execution_count": 9,
   "metadata": {
    "scrolled": true
   },
   "outputs": [
    {
     "name": "stdout",
     "output_type": "stream",
     "text": [
      "4434\n",
      "4435\n"
     ]
    }
   ],
   "source": [
    "## Sample size, Method 1\n",
    "sample_size = int(sms.NormalIndPower().solve_power(\n",
    "    effect_size=effect_1, \n",
    "    alpha=alpha, \n",
    "    power=power, \n",
    "    ratio=1\n",
    "    ))\n",
    "print(sample_size)\n",
    "\n",
    "## Sample size, Method 2\n",
    "sample_size = int(tt_ind_solve_power(\n",
    "    effect_size=effect_1, \n",
    "    nobs1=None, \n",
    "    ratio=1, \n",
    "    alpha=alpha, \n",
    "    power=power, \n",
    "    alternative='two-sided'))\n",
    "print(sample_size)"
   ]
  },
  {
   "cell_type": "markdown",
   "metadata": {},
   "source": [
    "### Testing\n",
    "There are many ways to do A/B testing in Python with our data. I chose the `chi-squared test` for its simplicity (after all, our case is not the most difficult one). Also, I'll try a popular and more versatile bootstrap test."
   ]
  },
  {
   "cell_type": "code",
   "execution_count": 10,
   "metadata": {},
   "outputs": [],
   "source": [
    "# Sample\n",
    "sample_A = group_A.sample(sample_size, random_state=1)\n",
    "sample_B = group_B.sample(sample_size, random_state=1)"
   ]
  },
  {
   "cell_type": "code",
   "execution_count": 11,
   "metadata": {},
   "outputs": [
    {
     "name": "stdout",
     "output_type": "stream",
     "text": [
      "mean    0.120631\n",
      "std     0.325735\n",
      "Name: converted, dtype: float64\n",
      "\n",
      "mean    0.114092\n",
      "std     0.317959\n",
      "Name: converted, dtype: float64\n"
     ]
    }
   ],
   "source": [
    "# Calculate means and standard deviations for our samples\n",
    "print(sample_A['converted'].agg([np.mean, np.std]))\n",
    "print()\n",
    "print(sample_B['converted'].agg([np.mean, np.std]))"
   ]
  },
  {
   "cell_type": "markdown",
   "metadata": {},
   "source": [
    "#### Chi-square test\n",
    "Basically, the chi-squared test compares the observed frequencies (i.e. how often a categorical value is in the data) of different categories in a contingency table with the frequencies we would expect to see if there were no association between the variables. The test evaluates whether the observed frequencies are significantly different from the expected frequencies, which is an indication of a potential relationship.\\\n",
    "First, we create a contingency table using the pandas.crosstab function. Second, we use the chi2_contingency function from scipy to find a p-value."
   ]
  },
  {
   "cell_type": "code",
   "execution_count": 12,
   "metadata": {},
   "outputs": [
    {
     "name": "stdout",
     "output_type": "stream",
     "text": [
      "converted     0    1\n",
      "group               \n",
      "control    3900  535\n",
      "treatment  3929  506\n"
     ]
    }
   ],
   "source": [
    "both_groups = pd.concat([sample_A[['country', 'group', 'converted']], sample_B[['country', 'group', 'converted']]])\n",
    "ab_contingency = pd.crosstab(both_groups.group, both_groups.converted)\n",
    "print(ab_contingency)"
   ]
  },
  {
   "cell_type": "code",
   "execution_count": 13,
   "metadata": {},
   "outputs": [
    {
     "name": "stdout",
     "output_type": "stream",
     "text": [
      "The contingency table if there were no association:\n",
      "[[3914.5  520.5]\n",
      " [3914.5  520.5]]\n",
      "\n",
      "P-value: 0.36.\n"
     ]
    }
   ],
   "source": [
    "chi2_statistic, p, dof, expected = stats.chi2_contingency(ab_contingency)\n",
    "print(f'The contingency table if there were no association:\\n{expected}\\n')\n",
    "print(f'P-value: {round(p, 2)}.')"
   ]
  },
  {
   "cell_type": "markdown",
   "metadata": {},
   "source": [
    "The p-value of 0.36 is a lot larger than the significance threshold of 0.05. It means there is <b>no significant difference</b> beween two landing page designs."
   ]
  },
  {
   "cell_type": "markdown",
   "metadata": {},
   "source": [
    "#### Bootstrap test\n",
    "Another great way to test our hypothesis is a bootstrap. This could be done with the scipy.stats.bootstrap function, but for demonstration purposes, we'll calculate the p-value 'by hand' (I also love the whole iteration thing in this code).\\\n",
    "The p-value is larger than in the previous test, but is still well above the significance threshold."
   ]
  },
  {
   "cell_type": "code",
   "execution_count": 14,
   "metadata": {},
   "outputs": [
    {
     "name": "stdout",
     "output_type": "stream",
     "text": [
      "P-value: 0.5\n"
     ]
    }
   ],
   "source": [
    "observed_diff = np.mean(sample_B.converted) - np.mean(sample_A.converted)\n",
    "n_iterations = 1000\n",
    "\n",
    "# Array to store bootstrap sample statistics\n",
    "bootstrap_stats = np.zeros(n_iterations)\n",
    "\n",
    "for i in range(n_iterations):\n",
    "    # Generate bootstrap samples\n",
    "    treatment_sample = np.random.choice(sample_B.converted, size=len(sample_B.converted), replace=True)\n",
    "    control_sample = np.random.choice(sample_A.converted, size=len(sample_A.converted), replace=True)\n",
    "    \n",
    "    # Calculate test statistic for the bootstrap sample\n",
    "    bootstrap_diff = np.mean(treatment_sample) - np.mean(control_sample)\n",
    "    # Store the bootstrap statistic\n",
    "    bootstrap_stats[i] = bootstrap_diff\n",
    "\n",
    "# Count the proportion of bootstrap statistics that are greater than or equal to the observed difference (-0.00654 in this case)\n",
    "p = np.mean(bootstrap_stats >= observed_diff)\n",
    "\n",
    "print(f'P-value: {round(p, 2)}')"
   ]
  },
  {
   "cell_type": "markdown",
   "metadata": {},
   "source": [
    "### Other factors\n",
    "#### Total Time Spent on the Website\n",
    "There are two variables that can give more insight into user behavior on the site.\\\n",
    "The first one is a timestamp. There is no information in the dataset about what this column represents. My guess is that it is the total time a user spent on the site, in minutes and seconds."
   ]
  },
  {
   "cell_type": "code",
   "execution_count": 15,
   "metadata": {},
   "outputs": [
    {
     "data": {
      "text/html": [
       "<div>\n",
       "<style scoped>\n",
       "    .dataframe tbody tr th:only-of-type {\n",
       "        vertical-align: middle;\n",
       "    }\n",
       "\n",
       "    .dataframe tbody tr th {\n",
       "        vertical-align: top;\n",
       "    }\n",
       "\n",
       "    .dataframe thead th {\n",
       "        text-align: right;\n",
       "    }\n",
       "</style>\n",
       "<table border=\"1\" class=\"dataframe\">\n",
       "  <thead>\n",
       "    <tr style=\"text-align: right;\">\n",
       "      <th></th>\n",
       "      <th>user_id</th>\n",
       "      <th>timestamp</th>\n",
       "      <th>group</th>\n",
       "      <th>landing_page</th>\n",
       "      <th>converted</th>\n",
       "      <th>country</th>\n",
       "      <th>total_minutes</th>\n",
       "    </tr>\n",
       "  </thead>\n",
       "  <tbody>\n",
       "    <tr>\n",
       "      <th>0</th>\n",
       "      <td>851104</td>\n",
       "      <td>11:48.6</td>\n",
       "      <td>control</td>\n",
       "      <td>old_page</td>\n",
       "      <td>0</td>\n",
       "      <td>US</td>\n",
       "      <td>11.81</td>\n",
       "    </tr>\n",
       "    <tr>\n",
       "      <th>1</th>\n",
       "      <td>804228</td>\n",
       "      <td>01:45.2</td>\n",
       "      <td>control</td>\n",
       "      <td>old_page</td>\n",
       "      <td>0</td>\n",
       "      <td>US</td>\n",
       "      <td>1.75</td>\n",
       "    </tr>\n",
       "    <tr>\n",
       "      <th>2</th>\n",
       "      <td>661590</td>\n",
       "      <td>55:06.2</td>\n",
       "      <td>treatment</td>\n",
       "      <td>new_page</td>\n",
       "      <td>0</td>\n",
       "      <td>US</td>\n",
       "      <td>55.10</td>\n",
       "    </tr>\n",
       "    <tr>\n",
       "      <th>3</th>\n",
       "      <td>853541</td>\n",
       "      <td>28:03.1</td>\n",
       "      <td>treatment</td>\n",
       "      <td>new_page</td>\n",
       "      <td>0</td>\n",
       "      <td>US</td>\n",
       "      <td>28.05</td>\n",
       "    </tr>\n",
       "    <tr>\n",
       "      <th>4</th>\n",
       "      <td>864975</td>\n",
       "      <td>52:26.2</td>\n",
       "      <td>control</td>\n",
       "      <td>old_page</td>\n",
       "      <td>1</td>\n",
       "      <td>US</td>\n",
       "      <td>52.44</td>\n",
       "    </tr>\n",
       "  </tbody>\n",
       "</table>\n",
       "</div>"
      ],
      "text/plain": [
       "   user_id timestamp      group landing_page  converted country  total_minutes\n",
       "0   851104   11:48.6    control     old_page          0      US          11.81\n",
       "1   804228   01:45.2    control     old_page          0      US           1.75\n",
       "2   661590   55:06.2  treatment     new_page          0      US          55.10\n",
       "3   853541   28:03.1  treatment     new_page          0      US          28.05\n",
       "4   864975   52:26.2    control     old_page          1      US          52.44"
      ]
     },
     "execution_count": 15,
     "metadata": {},
     "output_type": "execute_result"
    }
   ],
   "source": [
    "# Convert 'timestamp' to minutes\n",
    "df['total_minutes'] = df['timestamp'].apply(lambda x: round(float(x[:2]) + float(x[3:]) / 60, 2))\n",
    "df.head()"
   ]
  },
  {
   "cell_type": "code",
   "execution_count": 16,
   "metadata": {},
   "outputs": [
    {
     "data": {
      "text/html": [
       "<div>\n",
       "<style scoped>\n",
       "    .dataframe tbody tr th:only-of-type {\n",
       "        vertical-align: middle;\n",
       "    }\n",
       "\n",
       "    .dataframe tbody tr th {\n",
       "        vertical-align: top;\n",
       "    }\n",
       "\n",
       "    .dataframe thead tr th {\n",
       "        text-align: left;\n",
       "    }\n",
       "\n",
       "    .dataframe thead tr:last-of-type th {\n",
       "        text-align: right;\n",
       "    }\n",
       "</style>\n",
       "<table border=\"1\" class=\"dataframe\">\n",
       "  <thead>\n",
       "    <tr>\n",
       "      <th></th>\n",
       "      <th colspan=\"2\" halign=\"left\">total_minutes</th>\n",
       "    </tr>\n",
       "    <tr>\n",
       "      <th>group</th>\n",
       "      <th>control</th>\n",
       "      <th>treatment</th>\n",
       "    </tr>\n",
       "    <tr>\n",
       "      <th>converted</th>\n",
       "      <th></th>\n",
       "      <th></th>\n",
       "    </tr>\n",
       "  </thead>\n",
       "  <tbody>\n",
       "    <tr>\n",
       "      <th>0</th>\n",
       "      <td>30.099602</td>\n",
       "      <td>30.019013</td>\n",
       "    </tr>\n",
       "    <tr>\n",
       "      <th>1</th>\n",
       "      <td>29.954144</td>\n",
       "      <td>30.070834</td>\n",
       "    </tr>\n",
       "  </tbody>\n",
       "</table>\n",
       "</div>"
      ],
      "text/plain": [
       "          total_minutes           \n",
       "group           control  treatment\n",
       "converted                         \n",
       "0             30.099602  30.019013\n",
       "1             29.954144  30.070834"
      ]
     },
     "execution_count": 16,
     "metadata": {},
     "output_type": "execute_result"
    }
   ],
   "source": [
    "# Show average minutes for all scenarios with a pivot table\n",
    "df.pivot_table(index=['converted'],\n",
    "                columns=['group'],\n",
    "                values=['total_minutes'],\n",
    "                aggfunc='mean')"
   ]
  },
  {
   "cell_type": "markdown",
   "metadata": {},
   "source": [
    "<b>Findings</b>. I see no point in continuing with the time variable. The pivot table of minute means shows no difference in conversion rates between the groups. Also, we can only assume that this column represents the time spent on the website, as we've got no data dictionary."
   ]
  },
  {
   "cell_type": "markdown",
   "metadata": {},
   "source": [
    "#### Countries\n",
    "Finally, let's take a look at the countries data set.\\\n",
    "The pivot table shows the largest difference among Canadian users, and the smallest in the US."
   ]
  },
  {
   "cell_type": "code",
   "execution_count": 17,
   "metadata": {},
   "outputs": [
    {
     "data": {
      "text/html": [
       "<div>\n",
       "<style scoped>\n",
       "    .dataframe tbody tr th:only-of-type {\n",
       "        vertical-align: middle;\n",
       "    }\n",
       "\n",
       "    .dataframe tbody tr th {\n",
       "        vertical-align: top;\n",
       "    }\n",
       "\n",
       "    .dataframe thead tr th {\n",
       "        text-align: left;\n",
       "    }\n",
       "\n",
       "    .dataframe thead tr:last-of-type th {\n",
       "        text-align: right;\n",
       "    }\n",
       "</style>\n",
       "<table border=\"1\" class=\"dataframe\">\n",
       "  <thead>\n",
       "    <tr>\n",
       "      <th></th>\n",
       "      <th colspan=\"2\" halign=\"left\">converted</th>\n",
       "    </tr>\n",
       "    <tr>\n",
       "      <th>group</th>\n",
       "      <th>control</th>\n",
       "      <th>treatment</th>\n",
       "    </tr>\n",
       "    <tr>\n",
       "      <th>country</th>\n",
       "      <th></th>\n",
       "      <th></th>\n",
       "    </tr>\n",
       "  </thead>\n",
       "  <tbody>\n",
       "    <tr>\n",
       "      <th>CA</th>\n",
       "      <td>0.115741</td>\n",
       "      <td>0.093750</td>\n",
       "    </tr>\n",
       "    <tr>\n",
       "      <th>UK</th>\n",
       "      <td>0.127773</td>\n",
       "      <td>0.112029</td>\n",
       "    </tr>\n",
       "    <tr>\n",
       "      <th>US</th>\n",
       "      <td>0.118370</td>\n",
       "      <td>0.116505</td>\n",
       "    </tr>\n",
       "  </tbody>\n",
       "</table>\n",
       "</div>"
      ],
      "text/plain": [
       "        converted          \n",
       "group     control treatment\n",
       "country                    \n",
       "CA       0.115741  0.093750\n",
       "UK       0.127773  0.112029\n",
       "US       0.118370  0.116505"
      ]
     },
     "execution_count": 17,
     "metadata": {},
     "output_type": "execute_result"
    }
   ],
   "source": [
    "both_groups.pivot_table(index=['country'],\n",
    "                        columns=['group'],\n",
    "                        values=['converted'],\n",
    "                        aggfunc='mean')"
   ]
  },
  {
   "cell_type": "markdown",
   "metadata": {},
   "source": [
    "To not repeat yourself and to show another approach to A/B testing, we'll run one of the following tests on the data, filtered by country:\n",
    "- <i>Two-sample t-test</i> if the data is normally distributed,\n",
    "- <i>Mann-Whitney U test</i> if not."
   ]
  },
  {
   "cell_type": "code",
   "execution_count": 18,
   "metadata": {
    "scrolled": true
   },
   "outputs": [
    {
     "name": "stdout",
     "output_type": "stream",
     "text": [
      "(0.0, 0.0)\n"
     ]
    }
   ],
   "source": [
    "# Check the normality with the Shapiro-Wilk W test for both samples\n",
    "normality_pvalues = (stats.shapiro(sample_A.converted)[1], stats.shapiro(sample_B.converted)[1])\n",
    "print(normality_pvalues)"
   ]
  },
  {
   "cell_type": "markdown",
   "metadata": {},
   "source": [
    "Since data is not normal, we'll run the nonparametric Mann-Whitney U test. This test compares two independant samples to determine if they come from the same population."
   ]
  },
  {
   "cell_type": "code",
   "execution_count": 19,
   "metadata": {
    "scrolled": true
   },
   "outputs": [
    {
     "name": "stdout",
     "output_type": "stream",
     "text": [
      "P-value for US: 0.8198610487339111\n",
      "P-value for UK: 0.25442017080004864\n",
      "P-value for CA: 0.43604924692614255\n"
     ]
    }
   ],
   "source": [
    "# Create filters to access the rows with selected countries\n",
    "countries_list = ['US', 'UK', 'CA']\n",
    "for country in countries_list:\n",
    "    country_filter = both_groups.country == country\n",
    "    u, p = stats.mannwhitneyu(sample_A.loc[country_filter]['converted'], sample_B.loc[country_filter]['converted'])\n",
    "    print(f'P-value for {country}: {p}')"
   ]
  },
  {
   "cell_type": "markdown",
   "metadata": {},
   "source": [
    "<b>Findings</b>. Despite some differences in conversion rates when the data is broken down by country (e.g. users from the UK were converted 1% more often), the test shows that this difference is not significant.  "
   ]
  },
  {
   "cell_type": "markdown",
   "metadata": {},
   "source": [
    "### Conclusion\n",
    "The hypothesis that two webpage designs are not different in terms of the conversion rate was failed to be rejected. It means that there was no difference in user behavior when landing on an old or new page. To test this, we used the chi-square test (Python function) and the bootstrap test (\"by hand\"). Since the data size was too large, we found a sample size with two methods. Lastly, we checked the influence of other factors such as time and country, but also found no significant effect."
   ]
  }
 ],
 "metadata": {
  "kernelspec": {
   "display_name": "Python 3 (ipykernel)",
   "language": "python",
   "name": "python3"
  },
  "language_info": {
   "codemirror_mode": {
    "name": "ipython",
    "version": 3
   },
   "file_extension": ".py",
   "mimetype": "text/x-python",
   "name": "python",
   "nbconvert_exporter": "python",
   "pygments_lexer": "ipython3",
   "version": "3.9.13"
  }
 },
 "nbformat": 4,
 "nbformat_minor": 2
}
